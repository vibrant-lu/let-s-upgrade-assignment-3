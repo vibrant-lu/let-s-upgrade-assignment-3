{
 "cells": [
  {
   "cell_type": "markdown",
   "metadata": {},
   "source": [
    "# assignment-3\n"
   ]
  },
  {
   "cell_type": "markdown",
   "metadata": {},
   "source": [
    "# Factorial "
   ]
  },
  {
   "cell_type": "code",
   "execution_count": 9,
   "metadata": {},
   "outputs": [
    {
     "name": "stdout",
     "output_type": "stream",
     "text": [
      "5\n",
      "the factorial of  5 is 120\n"
     ]
    }
   ],
   "source": [
    "n=int(input())\n",
    "def fact(n):\n",
    "\n",
    "    fact=1\n",
    "    if(n<0):\n",
    "        print(\"sorry -ve numbers has no factorial\")\n",
    "    elif(n==0):\n",
    "        print(\"the factorial of 0 is 1\")\n",
    "    else:\n",
    "        for i in range (1,n+1):\n",
    "            fact=fact*i\n",
    "        print(\"the factorial of \",n,\"is\",fact)\n",
    "fact(n)\n",
    "\n",
    "            "
   ]
  },
  {
   "cell_type": "markdown",
   "metadata": {},
   "source": [
    "# File handling"
   ]
  },
  {
   "cell_type": "code",
   "execution_count": 19,
   "metadata": {},
   "outputs": [],
   "source": [
    "f=open(\"hello.txt\",'w')\n",
    "f.write(\"hello world\")\n",
    "f.close()"
   ]
  },
  {
   "cell_type": "code",
   "execution_count": 22,
   "metadata": {},
   "outputs": [
    {
     "name": "stdout",
     "output_type": "stream",
     "text": [
      "hello world\n"
     ]
    }
   ],
   "source": [
    "f=open(\"hello.txt\",'r')\n",
    "r=f.read()\n",
    "print(r)\n",
    "f.close()\n"
   ]
  },
  {
   "cell_type": "code",
   "execution_count": 24,
   "metadata": {},
   "outputs": [],
   "source": [
    "f=open(\"hello.txt\",'a')\n",
    "a=f.write(\"it's an update\")\n",
    "f.close()"
   ]
  },
  {
   "cell_type": "code",
   "execution_count": 25,
   "metadata": {},
   "outputs": [
    {
     "name": "stdout",
     "output_type": "stream",
     "text": [
      "hello worldit's an update\n"
     ]
    }
   ],
   "source": [
    "f=open(\"hello.txt\",'r')\n",
    "r=f.read()\n",
    "print(r)\n",
    "f.close()\n"
   ]
  }
 ],
 "metadata": {
  "kernelspec": {
   "display_name": "Python 3",
   "language": "python",
   "name": "python3"
  },
  "language_info": {
   "codemirror_mode": {
    "name": "ipython",
    "version": 3
   },
   "file_extension": ".py",
   "mimetype": "text/x-python",
   "name": "python",
   "nbconvert_exporter": "python",
   "pygments_lexer": "ipython3",
   "version": "3.8.3"
  }
 },
 "nbformat": 4,
 "nbformat_minor": 4
}
